{
 "cells": [
  {
   "cell_type": "code",
   "execution_count": null,
   "metadata": {},
   "outputs": [],
   "source": [
    "# 데이터 불러오기\n",
    "import pandas as pd\n",
    "import os\n",
    "import numpy as np\n",
    "# Excel 파일 경로\n",
    "excel_file_path = \"path/to/excel/file.xlsx\"\n",
    "\n",
    "# Excel 파일 읽기\n",
    "df = pd.read_excel(excel_file_path)\n",
    "\n",
    "# SQL Server 연결 설정\n",
    "server = 'server_name'\n",
    "database = 'database_name'\n",
    "username = 'username'\n",
    "password = 'password'\n",
    "\n",
    "# SQL Server에 데이터 삽입\n",
    "conn_str = f\"mssql+pyodbc://{username}:{password}@{server}/{database}?driver=ODBC+Driver+17+for+SQL+Server\"\n",
    "engine = create_engine(conn_str)\n",
    "df.to_sql('table_name', engine, if_exists='replace', index=False)"
   ]
  }
 ],
 "metadata": {
  "language_info": {
   "name": "python"
  }
 },
 "nbformat": 4,
 "nbformat_minor": 2
}
