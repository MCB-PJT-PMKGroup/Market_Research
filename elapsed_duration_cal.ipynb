{
 "cells": [
  {
   "cell_type": "code",
   "execution_count": 1,
   "metadata": {},
   "outputs": [],
   "source": [
    "# 기간진행율 계산\n",
    "\n",
    "from datetime import datetime"
   ]
  },
  {
   "cell_type": "code",
   "execution_count": 8,
   "metadata": {},
   "outputs": [],
   "source": [
    "start_date = datetime.strptime('2024-06-18', '%Y-%m-%d')\n",
    "end_date = datetime.strptime('2024-09-18', '%Y-%m-%d')\n",
    "current_date = datetime.strptime('2024-08-30', '%Y-%m-%d')"
   ]
  },
  {
   "cell_type": "code",
   "execution_count": 9,
   "metadata": {},
   "outputs": [
    {
     "data": {
      "text/plain": [
       "79.34782608695652"
      ]
     },
     "execution_count": 9,
     "metadata": {},
     "output_type": "execute_result"
    }
   ],
   "source": [
    "# 전체 기간 및 진행된 기간 계산\n",
    "total_duration = (end_date - start_date).days\n",
    "\n",
    "elapsed_duration = (current_date - start_date).days\n",
    "\n",
    "\n",
    "# 진행율 계산\n",
    "progress_percentage = (elapsed_duration / total_duration) * 100\n",
    "\n",
    "progress_percentage"
   ]
  }
 ],
 "metadata": {
  "kernelspec": {
   "display_name": ".venv",
   "language": "python",
   "name": "python3"
  },
  "language_info": {
   "codemirror_mode": {
    "name": "ipython",
    "version": 3
   },
   "file_extension": ".py",
   "mimetype": "text/x-python",
   "name": "python",
   "nbconvert_exporter": "python",
   "pygments_lexer": "ipython3",
   "version": "3.12.4"
  }
 },
 "nbformat": 4,
 "nbformat_minor": 2
}
